{
 "cells": [
  {
   "cell_type": "markdown",
   "id": "5ad21e7d",
   "metadata": {},
   "source": [
    "# PYTHON PROGRAMMING ASSIGNMENT-5"
   ]
  },
  {
   "cell_type": "code",
   "execution_count": 25,
   "id": "764e8c42",
   "metadata": {},
   "outputs": [],
   "source": [
    "#QUESTION 1: Write a Python Program to Find LCM?\n",
    "\n",
    "def lcm(a,b):\n",
    "    \n",
    "   \n",
    "    if a>b:\n",
    "        num=a\n",
    "    elif a<b:\n",
    "        num=b\n",
    "    for i in range(1,num+1):\n",
    "        if (num%a==0) and (num%b==0):\n",
    "            lcm1=num\n",
    "            \n",
    "    \n",
    "    \n",
    "    return('lcm is:',lcm1)"
   ]
  },
  {
   "cell_type": "code",
   "execution_count": 26,
   "id": "bfed1a44",
   "metadata": {},
   "outputs": [
    {
     "data": {
      "text/plain": [
       "('lcm is:', 225)"
      ]
     },
     "execution_count": 26,
     "metadata": {},
     "output_type": "execute_result"
    }
   ],
   "source": [
    "lcm(5,225)"
   ]
  },
  {
   "cell_type": "code",
   "execution_count": 27,
   "id": "52ae9394",
   "metadata": {},
   "outputs": [
    {
     "data": {
      "text/plain": [
       "('lcm is:', 125)"
      ]
     },
     "execution_count": 27,
     "metadata": {},
     "output_type": "execute_result"
    }
   ],
   "source": [
    "lcm(5,125)"
   ]
  },
  {
   "cell_type": "code",
   "execution_count": 28,
   "id": "0679e6b4",
   "metadata": {},
   "outputs": [],
   "source": [
    "#QUESTION 2: Write a Python Program to Find HCF?\n",
    "\n",
    "def hcf(a,b):\n",
    "    if a>b:\n",
    "        num=b\n",
    "    elif a<b:\n",
    "        num =a\n",
    "    for i in range(1,num+1):\n",
    "        if (a%i==0) and (b%i==0):\n",
    "            hcf1=i\n",
    "    return(hcf1)"
   ]
  },
  {
   "cell_type": "code",
   "execution_count": 29,
   "id": "56acb6d4",
   "metadata": {},
   "outputs": [
    {
     "data": {
      "text/plain": [
       "4"
      ]
     },
     "execution_count": 29,
     "metadata": {},
     "output_type": "execute_result"
    }
   ],
   "source": [
    "hcf(4,16)"
   ]
  },
  {
   "cell_type": "code",
   "execution_count": 30,
   "id": "eb960d2e",
   "metadata": {},
   "outputs": [
    {
     "data": {
      "text/plain": [
       "2"
      ]
     },
     "execution_count": 30,
     "metadata": {},
     "output_type": "execute_result"
    }
   ],
   "source": [
    "hcf(4,18)"
   ]
  },
  {
   "cell_type": "code",
   "execution_count": 46,
   "id": "9a7f8c1e",
   "metadata": {},
   "outputs": [
    {
     "name": "stdout",
     "output_type": "stream",
     "text": [
      "enter any decimal no.: 56\n",
      "0b111000  : in binary form\n",
      "0o70  : in octal form\n",
      "0x38  : in hexadecimal form\n"
     ]
    }
   ],
   "source": [
    "#QUESTION 3: Write a Python Program to Convert Decimal to Binary, Octal and Hexadecimal?\n",
    "\n",
    "num=int(input(\"enter any decimal no.: \"))\n",
    "\n",
    "print(bin(num),\" : in binary form\")\n",
    "print(oct(num),\" : in octal form\")\n",
    "print(hex(num),\" : in hexadecimal form\")"
   ]
  },
  {
   "cell_type": "code",
   "execution_count": 61,
   "id": "52541d2d",
   "metadata": {},
   "outputs": [
    {
     "name": "stdout",
     "output_type": "stream",
     "text": [
      "enter any single character: y\n",
      "121\n"
     ]
    }
   ],
   "source": [
    "#QUESTION 4: Write a Python Program To Find ASCII value of a character?\n",
    "\n",
    "char =input(\"enter any single character: \")\n",
    "print(ord(char))\n"
   ]
  },
  {
   "cell_type": "code",
   "execution_count": 69,
   "id": "3a57f31a",
   "metadata": {},
   "outputs": [],
   "source": [
    "\n",
    "#QUESTION 5: Write a Python Program to Make a Simple Calculator with 4 basic mathematical operations?\n",
    "def sum(a,b):\n",
    "    num1=int(a)\n",
    "    num2=int(b)\n",
    "\n",
    "    sum1 = num1 + num2\n",
    "    print (sum1)\n",
    "    \n",
    "def sub(c,d):\n",
    "    num3=int(c)\n",
    "    num4=int(d)\n",
    "    \n",
    "    if num3>num4:\n",
    "        diff=num3 - num4\n",
    "        print(diff)\n",
    "    else:\n",
    "        diff=num4-num3\n",
    "        print(diff)\n",
    "        \n",
    "def product(e,f):\n",
    "    num5=int(e)\n",
    "    num6=int(f)\n",
    "\n",
    "    prod = num5 * num6\n",
    "    print (prod)\n",
    "    \n",
    "def div(g,h):\n",
    "    num7=int(g)\n",
    "    num8=int(h)\n",
    "    \n",
    "    if num7!=0 and num8!=0:\n",
    "        div1=num7/ num8\n",
    "        print(div1)\n",
    "    else:\n",
    "        print(\"enter number except 0\")\n",
    "    \n",
    "    \n"
   ]
  },
  {
   "cell_type": "code",
   "execution_count": 72,
   "id": "f83665b6",
   "metadata": {},
   "outputs": [
    {
     "name": "stdout",
     "output_type": "stream",
     "text": [
      "9\n",
      "9\n",
      "-18\n",
      "-2.0\n"
     ]
    },
    {
     "data": {
      "text/plain": [
       "(None, None, None, None)"
      ]
     },
     "execution_count": 72,
     "metadata": {},
     "output_type": "execute_result"
    }
   ],
   "source": [
    "sum(6,3) , sub(-6,3) , product(-6,3) , div(6,-3)"
   ]
  },
  {
   "cell_type": "code",
   "execution_count": null,
   "id": "ea1f9c57",
   "metadata": {},
   "outputs": [],
   "source": []
  }
 ],
 "metadata": {
  "kernelspec": {
   "display_name": "Python 3 (ipykernel)",
   "language": "python",
   "name": "python3"
  },
  "language_info": {
   "codemirror_mode": {
    "name": "ipython",
    "version": 3
   },
   "file_extension": ".py",
   "mimetype": "text/x-python",
   "name": "python",
   "nbconvert_exporter": "python",
   "pygments_lexer": "ipython3",
   "version": "3.9.7"
  }
 },
 "nbformat": 4,
 "nbformat_minor": 5
}
